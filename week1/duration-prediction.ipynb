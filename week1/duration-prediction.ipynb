{
 "cells": [
  {
   "cell_type": "code",
   "execution_count": 3,
   "metadata": {},
   "outputs": [],
   "source": [
    "import pandas as pd \n",
    "\n",
    "import seaborn as sns\n",
    "import matplotlib.pyplot as plt\n",
    "\n",
    "from sklearn.feature_extraction import DictVectorizer\n",
    "from sklearn.linear_model import LinearRegression, Lasso\n",
    "from sklearn.metrics import mean_squared_error\n"
   ]
  },
  {
   "cell_type": "code",
   "execution_count": 6,
   "metadata": {},
   "outputs": [
    {
     "data": {
      "text/plain": [
       "<Experiment: artifact_location='./mlruns/1', experiment_id='1', lifecycle_stage='active', name='nyc_taxi_experiment', tags={}>"
      ]
     },
     "execution_count": 6,
     "metadata": {},
     "output_type": "execute_result"
    }
   ],
   "source": [
    "import mlflow \n",
    "\n",
    "mlflow.set_tracking_uri(\"sqlite:///mlflow.db\")\n",
    "mlflow.set_experiment(\"nyc_taxi_experiment\")"
   ]
  },
  {
   "cell_type": "code",
   "execution_count": 7,
   "metadata": {},
   "outputs": [],
   "source": [
    "df=pd.read_parquet(\"Data/green_tripdata_2021-01.parquet\")"
   ]
  },
  {
   "cell_type": "code",
   "execution_count": 8,
   "metadata": {},
   "outputs": [],
   "source": [
    "#get trip duration\n",
    "\n",
    "df[\"lpep_dropoff_datetime\"]=pd.to_datetime(df[\"lpep_dropoff_datetime\"])\n",
    "\n",
    "df[\"lpep_pickup_datetime\"]=pd.to_datetime(df[\"lpep_pickup_datetime\"])\n",
    "\n",
    "df[\"trip_duration\"]=df[\"lpep_dropoff_datetime\"]-df[\"lpep_pickup_datetime\"]\n"
   ]
  },
  {
   "cell_type": "code",
   "execution_count": 9,
   "metadata": {},
   "outputs": [],
   "source": [
    "#conver to duration in minutes\n",
    "df[\"trip_duration\"]=df[\"trip_duration\"].apply(lambda x: x.total_seconds()/60)"
   ]
  },
  {
   "cell_type": "code",
   "execution_count": 10,
   "metadata": {},
   "outputs": [],
   "source": [
    "#We are going to only consider trips with duration between 1 and 60 minutes\n",
    "\n",
    "df=df[df[\"trip_duration\"].between(1,60)]"
   ]
  },
  {
   "cell_type": "code",
   "execution_count": 11,
   "metadata": {},
   "outputs": [],
   "source": [
    "#Select what categorical and numerical variables we are going to use\n",
    "\n",
    "categorical=[\"PULocationID\",\"DOLocationID\"]\n",
    "numerical=[\"trip_distance\"]\n"
   ]
  },
  {
   "cell_type": "code",
   "execution_count": 12,
   "metadata": {},
   "outputs": [],
   "source": [
    "#one-hot encoding to categorical variables\n",
    "\n",
    "df[categorical]=df[categorical].astype(str)"
   ]
  },
  {
   "cell_type": "code",
   "execution_count": 13,
   "metadata": {},
   "outputs": [],
   "source": [
    "#Create dict from df\n",
    "train_dicts=df[categorical+numerical].to_dict(orient=\"records\")\n",
    "\n",
    "dv=DictVectorizer()\n",
    "X_train=dv.fit_transform(train_dicts)"
   ]
  },
  {
   "cell_type": "code",
   "execution_count": 14,
   "metadata": {},
   "outputs": [],
   "source": [
    "#target variables\n",
    "target=\"trip_duration\"\n",
    "y_train=df[target].values"
   ]
  },
  {
   "cell_type": "code",
   "execution_count": 16,
   "metadata": {},
   "outputs": [],
   "source": [
    "#linear regression model\n",
    "with mlflow.start_run():\n",
    "    mlflow.set_tag(\"Developer\", \"FF\")\n",
    "    mlflow.log_param(\"train_data_path\",\"January\")\n",
    "    mlflow.log_param(\"val_data_path\",\"february\")\n",
    "    alpha=0.01\n",
    "    mlflow.log_param(\"alpha\",alpha)\n",
    "    lr=Lasso(alpha)\n",
    "    lr.fit(X_train, y_train)\n",
    "    #Apply model\n",
    "    y_pred=lr.predict(X_train)\n",
    "\n",
    "    #RMSE of our baseline model\n",
    "    RMSE=mean_squared_error(y_train, y_pred, squared=False)\n",
    "\n",
    "    mlflow.log_metric(\"rmse\", RMSE)"
   ]
  },
  {
   "cell_type": "code",
   "execution_count": 34,
   "metadata": {},
   "outputs": [],
   "source": []
  },
  {
   "cell_type": "code",
   "execution_count": null,
   "metadata": {},
   "outputs": [],
   "source": []
  }
 ],
 "metadata": {
  "interpreter": {
   "hash": "63ca9b11901a07c132865fca38dc4179db2025f370152df2496fae4dba9a1ef8"
  },
  "kernelspec": {
   "display_name": "Python 3.9.12 ('mlops_zoomcamp')",
   "language": "python",
   "name": "python3"
  },
  "language_info": {
   "codemirror_mode": {
    "name": "ipython",
    "version": 3
   },
   "file_extension": ".py",
   "mimetype": "text/x-python",
   "name": "python",
   "nbconvert_exporter": "python",
   "pygments_lexer": "ipython3",
   "version": "3.9.12"
  },
  "orig_nbformat": 4
 },
 "nbformat": 4,
 "nbformat_minor": 2
}
