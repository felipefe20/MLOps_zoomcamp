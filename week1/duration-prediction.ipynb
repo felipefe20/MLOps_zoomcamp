{
 "cells": [
  {
   "cell_type": "code",
   "execution_count": 1,
   "metadata": {},
   "outputs": [],
   "source": [
    "import pandas as pd \n",
    "\n",
    "import seaborn as sns\n",
    "import matplotlib.pyplot as plt\n",
    "\n",
    "from sklearn.feature_extraction import DictVectorizer\n",
    "from sklearn.linear_model import LinearRegression, Lasso\n",
    "from sklearn.metrics import mean_squared_error\n"
   ]
  },
  {
   "cell_type": "code",
   "execution_count": 2,
   "metadata": {},
   "outputs": [
    {
     "data": {
      "text/plain": [
       "<Experiment: artifact_location='./mlruns/1', experiment_id='1', lifecycle_stage='active', name='nyc_taxi_experiment', tags={}>"
      ]
     },
     "execution_count": 2,
     "metadata": {},
     "output_type": "execute_result"
    }
   ],
   "source": [
    "import mlflow \n",
    "\n",
    "mlflow.set_tracking_uri(\"sqlite:///mlflow.db\")\n",
    "mlflow.set_experiment(\"nyc_taxi_experiment\")"
   ]
  },
  {
   "cell_type": "code",
   "execution_count": 3,
   "metadata": {},
   "outputs": [],
   "source": [
    "df_train=pd.read_parquet(\"Data/green_tripdata_2021-01.parquet\")\n",
    "df_val=pd.read_parquet(\"Data/green_tripdata_2021-02.parquet\")"
   ]
  },
  {
   "cell_type": "code",
   "execution_count": 4,
   "metadata": {},
   "outputs": [],
   "source": [
    "#get trip duration\n",
    "\n",
    "df_train[\"lpep_dropoff_datetime\"]=pd.to_datetime(df_train[\"lpep_dropoff_datetime\"])\n",
    "\n",
    "df_train[\"lpep_pickup_datetime\"]=pd.to_datetime(df_train[\"lpep_pickup_datetime\"])\n",
    "\n",
    "df_train[\"trip_duration\"]=df_train[\"lpep_dropoff_datetime\"]-df_train[\"lpep_pickup_datetime\"]\n"
   ]
  },
  {
   "cell_type": "code",
   "execution_count": 5,
   "metadata": {},
   "outputs": [],
   "source": [
    "#convert to duration in minutes\n",
    "df_train[\"trip_duration\"]=df_train[\"trip_duration\"].apply(lambda x: x.total_seconds()/60)"
   ]
  },
  {
   "cell_type": "code",
   "execution_count": 6,
   "metadata": {},
   "outputs": [],
   "source": [
    "#We are going to only consider trips with duration between 1 and 60 minutes\n",
    "\n",
    "df_train=df_train[df_train[\"trip_duration\"].between(1,60)]"
   ]
  },
  {
   "cell_type": "code",
   "execution_count": 7,
   "metadata": {},
   "outputs": [],
   "source": [
    "#Select what categorical and numerical variables we are going to use\n",
    "\n",
    "categorical=[\"PULocationID\",\"DOLocationID\"]\n",
    "numerical=[\"trip_distance\"]\n"
   ]
  },
  {
   "cell_type": "code",
   "execution_count": 8,
   "metadata": {},
   "outputs": [],
   "source": [
    "#one-hot encoding to categorical variables\n",
    "\n",
    "df_train[categorical]=df_train[categorical].astype(str)"
   ]
  },
  {
   "cell_type": "code",
   "execution_count": 10,
   "metadata": {},
   "outputs": [],
   "source": [
    "#Create dict from df\n",
    "train_dicts=df_train[categorical+numerical].to_dict(orient=\"records\")\n",
    "\n",
    "dv=DictVectorizer()\n",
    "X_train=dv.fit_transform(train_dicts)\n",
    "\n",
    "val_dicts = df_val[categorical + numerical].to_dict(orient='records')\n",
    "X_val = dv.transform(val_dicts)"
   ]
  },
  {
   "cell_type": "code",
   "execution_count": 16,
   "metadata": {},
   "outputs": [],
   "source": [
    "#target variables\n",
    "target=\"trip_duration\"\n",
    "y_train=df_train[target].values\n"
   ]
  },
  {
   "cell_type": "code",
   "execution_count": 20,
   "metadata": {},
   "outputs": [],
   "source": [
    "df_val[\"lpep_dropoff_datetime\"]=pd.to_datetime(df_val[\"lpep_dropoff_datetime\"])\n",
    "\n",
    "df_val[\"lpep_pickup_datetime\"]=pd.to_datetime(df_val[\"lpep_pickup_datetime\"])\n",
    "\n",
    "df_val[\"trip_duration\"]=df_val[\"lpep_dropoff_datetime\"]-df_val[\"lpep_pickup_datetime\"]\n",
    "\n",
    "#convert to duration in minutes\n",
    "df_val[\"trip_duration\"]=df_val[\"trip_duration\"].apply(lambda x: x.total_seconds()/60)\n",
    "\n",
    "#We are going to only consider trips with duration between 1 and 60 minutes\n",
    "\n",
    "df_val=df_val[df_val[\"trip_duration\"].between(1,60)]\n",
    "\n",
    "\n",
    "X_val=df_val.drop(\"trip_duration\", axis=1)\n",
    "y_val = df_val[target].values"
   ]
  },
  {
   "cell_type": "code",
   "execution_count": 19,
   "metadata": {},
   "outputs": [],
   "source": [
    "#linear regression model\n",
    "with mlflow.start_run():\n",
    "    mlflow.set_tag(\"Developer\", \"FF\")\n",
    "    mlflow.log_param(\"train_data_path\",\"January\")\n",
    "    mlflow.log_param(\"val_data_path\",\"february\")\n",
    "    alpha=0.3\n",
    "    mlflow.log_param(\"alpha\",alpha)\n",
    "    lr=Lasso(alpha)\n",
    "    lr.fit(X_train, y_train)\n",
    "    #Apply model\n",
    "    y_pred=lr.predict(X_train)\n",
    "\n",
    "    #RMSE of our baseline model\n",
    "    RMSE=mean_squared_error(y_train, y_pred, squared=False)\n",
    "\n",
    "    mlflow.log_metric(\"rmse\", RMSE)"
   ]
  },
  {
   "cell_type": "code",
   "execution_count": 23,
   "metadata": {},
   "outputs": [
    {
     "name": "stderr",
     "output_type": "stream",
     "text": [
      "2022/05/23 23:07:19 WARNING mlflow.utils.autologging_utils: You are using an unsupported version of sklearn. If you encounter errors during autologging, try upgrading / downgrading sklearn to a supported version, or try upgrading MLflow.\n",
      "d:\\Anaconda\\envs\\mlops_zoomcamp\\lib\\site-packages\\sklearn\\svm\\_base.py:1225: ConvergenceWarning: Liblinear failed to converge, increase the number of iterations.\n",
      "  warnings.warn(\n",
      "d:\\Anaconda\\envs\\mlops_zoomcamp\\lib\\site-packages\\sklearn\\base.py:443: UserWarning: X has feature names, but LinearSVR was fitted without feature names\n",
      "  warnings.warn(\n"
     ]
    },
    {
     "ename": "TypeError",
     "evalue": "float() argument must be a string or a number, not 'Timestamp'",
     "output_type": "error",
     "traceback": [
      "\u001b[1;31m---------------------------------------------------------------------------\u001b[0m",
      "\u001b[1;31mTypeError\u001b[0m                                 Traceback (most recent call last)",
      "\u001b[1;32md:\\Escritorio\\Zoomcamps\\MLops_zoomcamp\\week1\\duration-prediction.ipynb Cell 13'\u001b[0m in \u001b[0;36m<cell line: 7>\u001b[1;34m()\u001b[0m\n\u001b[0;32m     <a href='vscode-notebook-cell:/d%3A/Escritorio/Zoomcamps/MLops_zoomcamp/week1/duration-prediction.ipynb#ch0000012?line=12'>13</a>\u001b[0m mlmodel \u001b[39m=\u001b[39m LinearSVR()\n\u001b[0;32m     <a href='vscode-notebook-cell:/d%3A/Escritorio/Zoomcamps/MLops_zoomcamp/week1/duration-prediction.ipynb#ch0000012?line=13'>14</a>\u001b[0m mlmodel\u001b[39m.\u001b[39mfit(X_train, y_train)\n\u001b[1;32m---> <a href='vscode-notebook-cell:/d%3A/Escritorio/Zoomcamps/MLops_zoomcamp/week1/duration-prediction.ipynb#ch0000012?line=15'>16</a>\u001b[0m y_pred \u001b[39m=\u001b[39m mlmodel\u001b[39m.\u001b[39;49mpredict(X_val)\n\u001b[0;32m     <a href='vscode-notebook-cell:/d%3A/Escritorio/Zoomcamps/MLops_zoomcamp/week1/duration-prediction.ipynb#ch0000012?line=16'>17</a>\u001b[0m rmse \u001b[39m=\u001b[39m mean_squared_error(y_val, y_pred, squared\u001b[39m=\u001b[39m\u001b[39mFalse\u001b[39;00m)\n\u001b[0;32m     <a href='vscode-notebook-cell:/d%3A/Escritorio/Zoomcamps/MLops_zoomcamp/week1/duration-prediction.ipynb#ch0000012?line=17'>18</a>\u001b[0m mlflow\u001b[39m.\u001b[39mlog_metric(\u001b[39m\"\u001b[39m\u001b[39mrmse\u001b[39m\u001b[39m\"\u001b[39m, rmse)\n",
      "File \u001b[1;32md:\\Anaconda\\envs\\mlops_zoomcamp\\lib\\site-packages\\mlflow\\utils\\autologging_utils\\safety.py:557\u001b[0m, in \u001b[0;36msafe_patch.<locals>.safe_patch_function\u001b[1;34m(*args, **kwargs)\u001b[0m\n\u001b[0;32m    <a href='file:///d%3A/Anaconda/envs/mlops_zoomcamp/lib/site-packages/mlflow/utils/autologging_utils/safety.py?line=554'>555</a>\u001b[0m     patch_function\u001b[39m.\u001b[39mcall(call_original, \u001b[39m*\u001b[39margs, \u001b[39m*\u001b[39m\u001b[39m*\u001b[39mkwargs)\n\u001b[0;32m    <a href='file:///d%3A/Anaconda/envs/mlops_zoomcamp/lib/site-packages/mlflow/utils/autologging_utils/safety.py?line=555'>556</a>\u001b[0m \u001b[39melse\u001b[39;00m:\n\u001b[1;32m--> <a href='file:///d%3A/Anaconda/envs/mlops_zoomcamp/lib/site-packages/mlflow/utils/autologging_utils/safety.py?line=556'>557</a>\u001b[0m     patch_function(call_original, \u001b[39m*\u001b[39margs, \u001b[39m*\u001b[39m\u001b[39m*\u001b[39mkwargs)\n\u001b[0;32m    <a href='file:///d%3A/Anaconda/envs/mlops_zoomcamp/lib/site-packages/mlflow/utils/autologging_utils/safety.py?line=558'>559</a>\u001b[0m session\u001b[39m.\u001b[39mstate \u001b[39m=\u001b[39m \u001b[39m\"\u001b[39m\u001b[39msucceeded\u001b[39m\u001b[39m\"\u001b[39m\n\u001b[0;32m    <a href='file:///d%3A/Anaconda/envs/mlops_zoomcamp/lib/site-packages/mlflow/utils/autologging_utils/safety.py?line=560'>561</a>\u001b[0m try_log_autologging_event(\n\u001b[0;32m    <a href='file:///d%3A/Anaconda/envs/mlops_zoomcamp/lib/site-packages/mlflow/utils/autologging_utils/safety.py?line=561'>562</a>\u001b[0m     AutologgingEventLogger\u001b[39m.\u001b[39mget_logger()\u001b[39m.\u001b[39mlog_patch_function_success,\n\u001b[0;32m    <a href='file:///d%3A/Anaconda/envs/mlops_zoomcamp/lib/site-packages/mlflow/utils/autologging_utils/safety.py?line=562'>563</a>\u001b[0m     session,\n\u001b[1;32m   (...)\u001b[0m\n\u001b[0;32m    <a href='file:///d%3A/Anaconda/envs/mlops_zoomcamp/lib/site-packages/mlflow/utils/autologging_utils/safety.py?line=566'>567</a>\u001b[0m     kwargs,\n\u001b[0;32m    <a href='file:///d%3A/Anaconda/envs/mlops_zoomcamp/lib/site-packages/mlflow/utils/autologging_utils/safety.py?line=567'>568</a>\u001b[0m )\n",
      "File \u001b[1;32md:\\Anaconda\\envs\\mlops_zoomcamp\\lib\\site-packages\\mlflow\\sklearn\\__init__.py:1529\u001b[0m, in \u001b[0;36m_autolog.<locals>.patched_predict\u001b[1;34m(original, self, *args, **kwargs)\u001b[0m\n\u001b[0;32m   <a href='file:///d%3A/Anaconda/envs/mlops_zoomcamp/lib/site-packages/mlflow/sklearn/__init__.py?line=1525'>1526</a>\u001b[0m \u001b[39mif\u001b[39;00m _AUTOLOGGING_METRICS_MANAGER\u001b[39m.\u001b[39mshould_log_post_training_metrics() \u001b[39mand\u001b[39;00m run_id:\n\u001b[0;32m   <a href='file:///d%3A/Anaconda/envs/mlops_zoomcamp/lib/site-packages/mlflow/sklearn/__init__.py?line=1526'>1527</a>\u001b[0m     \u001b[39m# Avoid nested patch when nested inference calls happens.\u001b[39;00m\n\u001b[0;32m   <a href='file:///d%3A/Anaconda/envs/mlops_zoomcamp/lib/site-packages/mlflow/sklearn/__init__.py?line=1527'>1528</a>\u001b[0m     \u001b[39mwith\u001b[39;00m _AUTOLOGGING_METRICS_MANAGER\u001b[39m.\u001b[39mdisable_log_post_training_metrics():\n\u001b[1;32m-> <a href='file:///d%3A/Anaconda/envs/mlops_zoomcamp/lib/site-packages/mlflow/sklearn/__init__.py?line=1528'>1529</a>\u001b[0m         predict_result \u001b[39m=\u001b[39m original(\u001b[39mself\u001b[39m, \u001b[39m*\u001b[39margs, \u001b[39m*\u001b[39m\u001b[39m*\u001b[39mkwargs)\n\u001b[0;32m   <a href='file:///d%3A/Anaconda/envs/mlops_zoomcamp/lib/site-packages/mlflow/sklearn/__init__.py?line=1529'>1530</a>\u001b[0m     eval_dataset \u001b[39m=\u001b[39m get_instance_method_first_arg_value(original, args, kwargs)\n\u001b[0;32m   <a href='file:///d%3A/Anaconda/envs/mlops_zoomcamp/lib/site-packages/mlflow/sklearn/__init__.py?line=1530'>1531</a>\u001b[0m     eval_dataset_name \u001b[39m=\u001b[39m _AUTOLOGGING_METRICS_MANAGER\u001b[39m.\u001b[39mregister_prediction_input_dataset(\n\u001b[0;32m   <a href='file:///d%3A/Anaconda/envs/mlops_zoomcamp/lib/site-packages/mlflow/sklearn/__init__.py?line=1531'>1532</a>\u001b[0m         \u001b[39mself\u001b[39m, eval_dataset\n\u001b[0;32m   <a href='file:///d%3A/Anaconda/envs/mlops_zoomcamp/lib/site-packages/mlflow/sklearn/__init__.py?line=1532'>1533</a>\u001b[0m     )\n",
      "File \u001b[1;32md:\\Anaconda\\envs\\mlops_zoomcamp\\lib\\site-packages\\mlflow\\utils\\autologging_utils\\safety.py:538\u001b[0m, in \u001b[0;36msafe_patch.<locals>.safe_patch_function.<locals>.call_original\u001b[1;34m(*og_args, **og_kwargs)\u001b[0m\n\u001b[0;32m    <a href='file:///d%3A/Anaconda/envs/mlops_zoomcamp/lib/site-packages/mlflow/utils/autologging_utils/safety.py?line=534'>535</a>\u001b[0m         original_result \u001b[39m=\u001b[39m original(\u001b[39m*\u001b[39m_og_args, \u001b[39m*\u001b[39m\u001b[39m*\u001b[39m_og_kwargs)\n\u001b[0;32m    <a href='file:///d%3A/Anaconda/envs/mlops_zoomcamp/lib/site-packages/mlflow/utils/autologging_utils/safety.py?line=535'>536</a>\u001b[0m         \u001b[39mreturn\u001b[39;00m original_result\n\u001b[1;32m--> <a href='file:///d%3A/Anaconda/envs/mlops_zoomcamp/lib/site-packages/mlflow/utils/autologging_utils/safety.py?line=537'>538</a>\u001b[0m \u001b[39mreturn\u001b[39;00m call_original_fn_with_event_logging(_original_fn, og_args, og_kwargs)\n",
      "File \u001b[1;32md:\\Anaconda\\envs\\mlops_zoomcamp\\lib\\site-packages\\mlflow\\utils\\autologging_utils\\safety.py:473\u001b[0m, in \u001b[0;36msafe_patch.<locals>.safe_patch_function.<locals>.call_original_fn_with_event_logging\u001b[1;34m(original_fn, og_args, og_kwargs)\u001b[0m\n\u001b[0;32m    <a href='file:///d%3A/Anaconda/envs/mlops_zoomcamp/lib/site-packages/mlflow/utils/autologging_utils/safety.py?line=463'>464</a>\u001b[0m \u001b[39mtry\u001b[39;00m:\n\u001b[0;32m    <a href='file:///d%3A/Anaconda/envs/mlops_zoomcamp/lib/site-packages/mlflow/utils/autologging_utils/safety.py?line=464'>465</a>\u001b[0m     try_log_autologging_event(\n\u001b[0;32m    <a href='file:///d%3A/Anaconda/envs/mlops_zoomcamp/lib/site-packages/mlflow/utils/autologging_utils/safety.py?line=465'>466</a>\u001b[0m         AutologgingEventLogger\u001b[39m.\u001b[39mget_logger()\u001b[39m.\u001b[39mlog_original_function_start,\n\u001b[0;32m    <a href='file:///d%3A/Anaconda/envs/mlops_zoomcamp/lib/site-packages/mlflow/utils/autologging_utils/safety.py?line=466'>467</a>\u001b[0m         session,\n\u001b[1;32m   (...)\u001b[0m\n\u001b[0;32m    <a href='file:///d%3A/Anaconda/envs/mlops_zoomcamp/lib/site-packages/mlflow/utils/autologging_utils/safety.py?line=470'>471</a>\u001b[0m         og_kwargs,\n\u001b[0;32m    <a href='file:///d%3A/Anaconda/envs/mlops_zoomcamp/lib/site-packages/mlflow/utils/autologging_utils/safety.py?line=471'>472</a>\u001b[0m     )\n\u001b[1;32m--> <a href='file:///d%3A/Anaconda/envs/mlops_zoomcamp/lib/site-packages/mlflow/utils/autologging_utils/safety.py?line=472'>473</a>\u001b[0m     original_fn_result \u001b[39m=\u001b[39m original_fn(\u001b[39m*\u001b[39mog_args, \u001b[39m*\u001b[39m\u001b[39m*\u001b[39mog_kwargs)\n\u001b[0;32m    <a href='file:///d%3A/Anaconda/envs/mlops_zoomcamp/lib/site-packages/mlflow/utils/autologging_utils/safety.py?line=474'>475</a>\u001b[0m     try_log_autologging_event(\n\u001b[0;32m    <a href='file:///d%3A/Anaconda/envs/mlops_zoomcamp/lib/site-packages/mlflow/utils/autologging_utils/safety.py?line=475'>476</a>\u001b[0m         AutologgingEventLogger\u001b[39m.\u001b[39mget_logger()\u001b[39m.\u001b[39mlog_original_function_success,\n\u001b[0;32m    <a href='file:///d%3A/Anaconda/envs/mlops_zoomcamp/lib/site-packages/mlflow/utils/autologging_utils/safety.py?line=476'>477</a>\u001b[0m         session,\n\u001b[1;32m   (...)\u001b[0m\n\u001b[0;32m    <a href='file:///d%3A/Anaconda/envs/mlops_zoomcamp/lib/site-packages/mlflow/utils/autologging_utils/safety.py?line=480'>481</a>\u001b[0m         og_kwargs,\n\u001b[0;32m    <a href='file:///d%3A/Anaconda/envs/mlops_zoomcamp/lib/site-packages/mlflow/utils/autologging_utils/safety.py?line=481'>482</a>\u001b[0m     )\n\u001b[0;32m    <a href='file:///d%3A/Anaconda/envs/mlops_zoomcamp/lib/site-packages/mlflow/utils/autologging_utils/safety.py?line=482'>483</a>\u001b[0m     \u001b[39mreturn\u001b[39;00m original_fn_result\n",
      "File \u001b[1;32md:\\Anaconda\\envs\\mlops_zoomcamp\\lib\\site-packages\\mlflow\\utils\\autologging_utils\\safety.py:535\u001b[0m, in \u001b[0;36msafe_patch.<locals>.safe_patch_function.<locals>.call_original.<locals>._original_fn\u001b[1;34m(*_og_args, **_og_kwargs)\u001b[0m\n\u001b[0;32m    <a href='file:///d%3A/Anaconda/envs/mlops_zoomcamp/lib/site-packages/mlflow/utils/autologging_utils/safety.py?line=526'>527</a>\u001b[0m \u001b[39m# Show all non-MLflow warnings as normal (i.e. not as event logs)\u001b[39;00m\n\u001b[0;32m    <a href='file:///d%3A/Anaconda/envs/mlops_zoomcamp/lib/site-packages/mlflow/utils/autologging_utils/safety.py?line=527'>528</a>\u001b[0m \u001b[39m# during original function execution, even if silent mode is enabled\u001b[39;00m\n\u001b[0;32m    <a href='file:///d%3A/Anaconda/envs/mlops_zoomcamp/lib/site-packages/mlflow/utils/autologging_utils/safety.py?line=528'>529</a>\u001b[0m \u001b[39m# (`silent=True`), since these warnings originate from the ML framework\u001b[39;00m\n\u001b[0;32m    <a href='file:///d%3A/Anaconda/envs/mlops_zoomcamp/lib/site-packages/mlflow/utils/autologging_utils/safety.py?line=529'>530</a>\u001b[0m \u001b[39m# or one of its dependencies and are likely relevant to the caller\u001b[39;00m\n\u001b[0;32m    <a href='file:///d%3A/Anaconda/envs/mlops_zoomcamp/lib/site-packages/mlflow/utils/autologging_utils/safety.py?line=530'>531</a>\u001b[0m \u001b[39mwith\u001b[39;00m set_non_mlflow_warnings_behavior_for_current_thread(\n\u001b[0;32m    <a href='file:///d%3A/Anaconda/envs/mlops_zoomcamp/lib/site-packages/mlflow/utils/autologging_utils/safety.py?line=531'>532</a>\u001b[0m     disable_warnings\u001b[39m=\u001b[39m\u001b[39mFalse\u001b[39;00m,\n\u001b[0;32m    <a href='file:///d%3A/Anaconda/envs/mlops_zoomcamp/lib/site-packages/mlflow/utils/autologging_utils/safety.py?line=532'>533</a>\u001b[0m     reroute_warnings\u001b[39m=\u001b[39m\u001b[39mFalse\u001b[39;00m,\n\u001b[0;32m    <a href='file:///d%3A/Anaconda/envs/mlops_zoomcamp/lib/site-packages/mlflow/utils/autologging_utils/safety.py?line=533'>534</a>\u001b[0m ):\n\u001b[1;32m--> <a href='file:///d%3A/Anaconda/envs/mlops_zoomcamp/lib/site-packages/mlflow/utils/autologging_utils/safety.py?line=534'>535</a>\u001b[0m     original_result \u001b[39m=\u001b[39m original(\u001b[39m*\u001b[39m_og_args, \u001b[39m*\u001b[39m\u001b[39m*\u001b[39m_og_kwargs)\n\u001b[0;32m    <a href='file:///d%3A/Anaconda/envs/mlops_zoomcamp/lib/site-packages/mlflow/utils/autologging_utils/safety.py?line=535'>536</a>\u001b[0m     \u001b[39mreturn\u001b[39;00m original_result\n",
      "File \u001b[1;32md:\\Anaconda\\envs\\mlops_zoomcamp\\lib\\site-packages\\sklearn\\linear_model\\_base.py:386\u001b[0m, in \u001b[0;36mLinearModel.predict\u001b[1;34m(self, X)\u001b[0m\n\u001b[0;32m    <a href='file:///d%3A/Anaconda/envs/mlops_zoomcamp/lib/site-packages/sklearn/linear_model/_base.py?line=371'>372</a>\u001b[0m \u001b[39mdef\u001b[39;00m \u001b[39mpredict\u001b[39m(\u001b[39mself\u001b[39m, X):\n\u001b[0;32m    <a href='file:///d%3A/Anaconda/envs/mlops_zoomcamp/lib/site-packages/sklearn/linear_model/_base.py?line=372'>373</a>\u001b[0m     \u001b[39m\"\"\"\u001b[39;00m\n\u001b[0;32m    <a href='file:///d%3A/Anaconda/envs/mlops_zoomcamp/lib/site-packages/sklearn/linear_model/_base.py?line=373'>374</a>\u001b[0m \u001b[39m    Predict using the linear model.\u001b[39;00m\n\u001b[0;32m    <a href='file:///d%3A/Anaconda/envs/mlops_zoomcamp/lib/site-packages/sklearn/linear_model/_base.py?line=374'>375</a>\u001b[0m \n\u001b[1;32m   (...)\u001b[0m\n\u001b[0;32m    <a href='file:///d%3A/Anaconda/envs/mlops_zoomcamp/lib/site-packages/sklearn/linear_model/_base.py?line=383'>384</a>\u001b[0m \u001b[39m        Returns predicted values.\u001b[39;00m\n\u001b[0;32m    <a href='file:///d%3A/Anaconda/envs/mlops_zoomcamp/lib/site-packages/sklearn/linear_model/_base.py?line=384'>385</a>\u001b[0m \u001b[39m    \"\"\"\u001b[39;00m\n\u001b[1;32m--> <a href='file:///d%3A/Anaconda/envs/mlops_zoomcamp/lib/site-packages/sklearn/linear_model/_base.py?line=385'>386</a>\u001b[0m     \u001b[39mreturn\u001b[39;00m \u001b[39mself\u001b[39;49m\u001b[39m.\u001b[39;49m_decision_function(X)\n",
      "File \u001b[1;32md:\\Anaconda\\envs\\mlops_zoomcamp\\lib\\site-packages\\sklearn\\linear_model\\_base.py:369\u001b[0m, in \u001b[0;36mLinearModel._decision_function\u001b[1;34m(self, X)\u001b[0m\n\u001b[0;32m    <a href='file:///d%3A/Anaconda/envs/mlops_zoomcamp/lib/site-packages/sklearn/linear_model/_base.py?line=365'>366</a>\u001b[0m \u001b[39mdef\u001b[39;00m \u001b[39m_decision_function\u001b[39m(\u001b[39mself\u001b[39m, X):\n\u001b[0;32m    <a href='file:///d%3A/Anaconda/envs/mlops_zoomcamp/lib/site-packages/sklearn/linear_model/_base.py?line=366'>367</a>\u001b[0m     check_is_fitted(\u001b[39mself\u001b[39m)\n\u001b[1;32m--> <a href='file:///d%3A/Anaconda/envs/mlops_zoomcamp/lib/site-packages/sklearn/linear_model/_base.py?line=368'>369</a>\u001b[0m     X \u001b[39m=\u001b[39m \u001b[39mself\u001b[39;49m\u001b[39m.\u001b[39;49m_validate_data(X, accept_sparse\u001b[39m=\u001b[39;49m[\u001b[39m\"\u001b[39;49m\u001b[39mcsr\u001b[39;49m\u001b[39m\"\u001b[39;49m, \u001b[39m\"\u001b[39;49m\u001b[39mcsc\u001b[39;49m\u001b[39m\"\u001b[39;49m, \u001b[39m\"\u001b[39;49m\u001b[39mcoo\u001b[39;49m\u001b[39m\"\u001b[39;49m], reset\u001b[39m=\u001b[39;49m\u001b[39mFalse\u001b[39;49;00m)\n\u001b[0;32m    <a href='file:///d%3A/Anaconda/envs/mlops_zoomcamp/lib/site-packages/sklearn/linear_model/_base.py?line=369'>370</a>\u001b[0m     \u001b[39mreturn\u001b[39;00m safe_sparse_dot(X, \u001b[39mself\u001b[39m\u001b[39m.\u001b[39mcoef_\u001b[39m.\u001b[39mT, dense_output\u001b[39m=\u001b[39m\u001b[39mTrue\u001b[39;00m) \u001b[39m+\u001b[39m \u001b[39mself\u001b[39m\u001b[39m.\u001b[39mintercept_\n",
      "File \u001b[1;32md:\\Anaconda\\envs\\mlops_zoomcamp\\lib\\site-packages\\sklearn\\base.py:577\u001b[0m, in \u001b[0;36mBaseEstimator._validate_data\u001b[1;34m(self, X, y, reset, validate_separately, **check_params)\u001b[0m\n\u001b[0;32m    <a href='file:///d%3A/Anaconda/envs/mlops_zoomcamp/lib/site-packages/sklearn/base.py?line=574'>575</a>\u001b[0m     \u001b[39mraise\u001b[39;00m \u001b[39mValueError\u001b[39;00m(\u001b[39m\"\u001b[39m\u001b[39mValidation should be done on X, y or both.\u001b[39m\u001b[39m\"\u001b[39m)\n\u001b[0;32m    <a href='file:///d%3A/Anaconda/envs/mlops_zoomcamp/lib/site-packages/sklearn/base.py?line=575'>576</a>\u001b[0m \u001b[39melif\u001b[39;00m \u001b[39mnot\u001b[39;00m no_val_X \u001b[39mand\u001b[39;00m no_val_y:\n\u001b[1;32m--> <a href='file:///d%3A/Anaconda/envs/mlops_zoomcamp/lib/site-packages/sklearn/base.py?line=576'>577</a>\u001b[0m     X \u001b[39m=\u001b[39m check_array(X, input_name\u001b[39m=\u001b[39m\u001b[39m\"\u001b[39m\u001b[39mX\u001b[39m\u001b[39m\"\u001b[39m, \u001b[39m*\u001b[39m\u001b[39m*\u001b[39mcheck_params)\n\u001b[0;32m    <a href='file:///d%3A/Anaconda/envs/mlops_zoomcamp/lib/site-packages/sklearn/base.py?line=577'>578</a>\u001b[0m     out \u001b[39m=\u001b[39m X\n\u001b[0;32m    <a href='file:///d%3A/Anaconda/envs/mlops_zoomcamp/lib/site-packages/sklearn/base.py?line=578'>579</a>\u001b[0m \u001b[39melif\u001b[39;00m no_val_X \u001b[39mand\u001b[39;00m \u001b[39mnot\u001b[39;00m no_val_y:\n",
      "File \u001b[1;32md:\\Anaconda\\envs\\mlops_zoomcamp\\lib\\site-packages\\sklearn\\utils\\validation.py:856\u001b[0m, in \u001b[0;36mcheck_array\u001b[1;34m(array, accept_sparse, accept_large_sparse, dtype, order, copy, force_all_finite, ensure_2d, allow_nd, ensure_min_samples, ensure_min_features, estimator, input_name)\u001b[0m\n\u001b[0;32m    <a href='file:///d%3A/Anaconda/envs/mlops_zoomcamp/lib/site-packages/sklearn/utils/validation.py?line=853'>854</a>\u001b[0m         array \u001b[39m=\u001b[39m array\u001b[39m.\u001b[39mastype(dtype, casting\u001b[39m=\u001b[39m\u001b[39m\"\u001b[39m\u001b[39munsafe\u001b[39m\u001b[39m\"\u001b[39m, copy\u001b[39m=\u001b[39m\u001b[39mFalse\u001b[39;00m)\n\u001b[0;32m    <a href='file:///d%3A/Anaconda/envs/mlops_zoomcamp/lib/site-packages/sklearn/utils/validation.py?line=854'>855</a>\u001b[0m     \u001b[39melse\u001b[39;00m:\n\u001b[1;32m--> <a href='file:///d%3A/Anaconda/envs/mlops_zoomcamp/lib/site-packages/sklearn/utils/validation.py?line=855'>856</a>\u001b[0m         array \u001b[39m=\u001b[39m np\u001b[39m.\u001b[39;49masarray(array, order\u001b[39m=\u001b[39;49morder, dtype\u001b[39m=\u001b[39;49mdtype)\n\u001b[0;32m    <a href='file:///d%3A/Anaconda/envs/mlops_zoomcamp/lib/site-packages/sklearn/utils/validation.py?line=856'>857</a>\u001b[0m \u001b[39mexcept\u001b[39;00m ComplexWarning \u001b[39mas\u001b[39;00m complex_warning:\n\u001b[0;32m    <a href='file:///d%3A/Anaconda/envs/mlops_zoomcamp/lib/site-packages/sklearn/utils/validation.py?line=857'>858</a>\u001b[0m     \u001b[39mraise\u001b[39;00m \u001b[39mValueError\u001b[39;00m(\n\u001b[0;32m    <a href='file:///d%3A/Anaconda/envs/mlops_zoomcamp/lib/site-packages/sklearn/utils/validation.py?line=858'>859</a>\u001b[0m         \u001b[39m\"\u001b[39m\u001b[39mComplex data not supported\u001b[39m\u001b[39m\\n\u001b[39;00m\u001b[39m{}\u001b[39;00m\u001b[39m\\n\u001b[39;00m\u001b[39m\"\u001b[39m\u001b[39m.\u001b[39mformat(array)\n\u001b[0;32m    <a href='file:///d%3A/Anaconda/envs/mlops_zoomcamp/lib/site-packages/sklearn/utils/validation.py?line=859'>860</a>\u001b[0m     ) \u001b[39mfrom\u001b[39;00m \u001b[39mcomplex_warning\u001b[39;00m\n",
      "File \u001b[1;32md:\\Anaconda\\envs\\mlops_zoomcamp\\lib\\site-packages\\pandas\\core\\generic.py:2064\u001b[0m, in \u001b[0;36mNDFrame.__array__\u001b[1;34m(self, dtype)\u001b[0m\n\u001b[0;32m   <a href='file:///d%3A/Anaconda/envs/mlops_zoomcamp/lib/site-packages/pandas/core/generic.py?line=2062'>2063</a>\u001b[0m \u001b[39mdef\u001b[39;00m \u001b[39m__array__\u001b[39m(\u001b[39mself\u001b[39m, dtype: npt\u001b[39m.\u001b[39mDTypeLike \u001b[39m|\u001b[39m \u001b[39mNone\u001b[39;00m \u001b[39m=\u001b[39m \u001b[39mNone\u001b[39;00m) \u001b[39m-\u001b[39m\u001b[39m>\u001b[39m np\u001b[39m.\u001b[39mndarray:\n\u001b[1;32m-> <a href='file:///d%3A/Anaconda/envs/mlops_zoomcamp/lib/site-packages/pandas/core/generic.py?line=2063'>2064</a>\u001b[0m     \u001b[39mreturn\u001b[39;00m np\u001b[39m.\u001b[39;49masarray(\u001b[39mself\u001b[39;49m\u001b[39m.\u001b[39;49m_values, dtype\u001b[39m=\u001b[39;49mdtype)\n",
      "\u001b[1;31mTypeError\u001b[0m: float() argument must be a string or a number, not 'Timestamp'"
     ]
    }
   ],
   "source": [
    "from sklearn.ensemble import RandomForestRegressor, GradientBoostingRegressor, ExtraTreesRegressor\n",
    "from sklearn.svm import LinearSVR\n",
    "\n",
    "mlflow.sklearn.autolog()\n",
    "mlflow.xgboost.autolog()\n",
    "\n",
    "with mlflow.start_run():\n",
    "\n",
    "    mlflow.log_param(\"train-data-path\", \"./data/green_tripdata_2021-01.csv\")\n",
    "    mlflow.log_param(\"valid-data-path\", \"./data/green_tripdata_2021-02.csv\")\n",
    "    #mlflow.log_artifact(\"models/preprocessor.b\", artifact_path=\"preprocessor\")\n",
    "\n",
    "    mlmodel = LinearSVR()\n",
    "    mlmodel.fit(X_train, y_train)\n",
    "\n",
    "    y_pred = mlmodel.predict(X_val)\n",
    "    rmse = mean_squared_error(y_val, y_pred, squared=False)\n",
    "    mlflow.log_metric(\"rmse\", rmse)\n",
    "        "
   ]
  },
  {
   "cell_type": "code",
   "execution_count": null,
   "metadata": {},
   "outputs": [],
   "source": []
  }
 ],
 "metadata": {
  "interpreter": {
   "hash": "63ca9b11901a07c132865fca38dc4179db2025f370152df2496fae4dba9a1ef8"
  },
  "kernelspec": {
   "display_name": "Python 3.9.12 ('mlops_zoomcamp')",
   "language": "python",
   "name": "python3"
  },
  "language_info": {
   "codemirror_mode": {
    "name": "ipython",
    "version": 3
   },
   "file_extension": ".py",
   "mimetype": "text/x-python",
   "name": "python",
   "nbconvert_exporter": "python",
   "pygments_lexer": "ipython3",
   "version": "3.9.12"
  },
  "orig_nbformat": 4
 },
 "nbformat": 4,
 "nbformat_minor": 2
}
